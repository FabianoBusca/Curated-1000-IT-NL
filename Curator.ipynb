{
 "cells": [
  {
   "cell_type": "code",
   "id": "initial_id",
   "metadata": {
    "collapsed": true,
    "ExecuteTime": {
     "end_time": "2024-11-24T22:38:50.789275Z",
     "start_time": "2024-11-24T22:38:50.786057Z"
    }
   },
   "source": "import pandas as pd",
   "outputs": [],
   "execution_count": 23
  },
  {
   "metadata": {},
   "cell_type": "markdown",
   "source": "## Load the Italian-Dutch parallel corpus",
   "id": "84f495f860283978"
  },
  {
   "metadata": {
    "ExecuteTime": {
     "end_time": "2024-11-24T22:38:52.352724Z",
     "start_time": "2024-11-24T22:38:52.318366Z"
    }
   },
   "cell_type": "code",
   "source": [
    "columns = ['it_id', 'italian', 'nl_id', 'dutch']\n",
    "df = pd.read_csv('Datasets/Tatoeba-it-nl.tsv', sep='\\t', header=None)\n",
    "df.columns = columns\n",
    "df.head()"
   ],
   "id": "47f9f3a60c6a7c5d",
   "outputs": [
    {
     "data": {
      "text/plain": [
       "   it_id                           italian   nl_id  \\\n",
       "0   4369            Devo andare a dormire.    5966   \n",
       "1   4371                        Che cos'è?    5970   \n",
       "2   4373  La parola d'accesso è \"Muiriel\".    5985   \n",
       "3   4375              Non cambierà niente.  379556   \n",
       "4   4376              Costerà trenta euro.  378907   \n",
       "\n",
       "                                   dutch  \n",
       "0                   Ik moet gaan slapen.  \n",
       "1                            Wat is dat?  \n",
       "2           Het wachtwoord is \"Muiriel\".  \n",
       "3  Dat zal niets aan de zaak veranderen.  \n",
       "4                 Dat zal € 30,- kosten.  "
      ],
      "text/html": [
       "<div>\n",
       "<style scoped>\n",
       "    .dataframe tbody tr th:only-of-type {\n",
       "        vertical-align: middle;\n",
       "    }\n",
       "\n",
       "    .dataframe tbody tr th {\n",
       "        vertical-align: top;\n",
       "    }\n",
       "\n",
       "    .dataframe thead th {\n",
       "        text-align: right;\n",
       "    }\n",
       "</style>\n",
       "<table border=\"1\" class=\"dataframe\">\n",
       "  <thead>\n",
       "    <tr style=\"text-align: right;\">\n",
       "      <th></th>\n",
       "      <th>it_id</th>\n",
       "      <th>italian</th>\n",
       "      <th>nl_id</th>\n",
       "      <th>dutch</th>\n",
       "    </tr>\n",
       "  </thead>\n",
       "  <tbody>\n",
       "    <tr>\n",
       "      <th>0</th>\n",
       "      <td>4369</td>\n",
       "      <td>Devo andare a dormire.</td>\n",
       "      <td>5966</td>\n",
       "      <td>Ik moet gaan slapen.</td>\n",
       "    </tr>\n",
       "    <tr>\n",
       "      <th>1</th>\n",
       "      <td>4371</td>\n",
       "      <td>Che cos'è?</td>\n",
       "      <td>5970</td>\n",
       "      <td>Wat is dat?</td>\n",
       "    </tr>\n",
       "    <tr>\n",
       "      <th>2</th>\n",
       "      <td>4373</td>\n",
       "      <td>La parola d'accesso è \"Muiriel\".</td>\n",
       "      <td>5985</td>\n",
       "      <td>Het wachtwoord is \"Muiriel\".</td>\n",
       "    </tr>\n",
       "    <tr>\n",
       "      <th>3</th>\n",
       "      <td>4375</td>\n",
       "      <td>Non cambierà niente.</td>\n",
       "      <td>379556</td>\n",
       "      <td>Dat zal niets aan de zaak veranderen.</td>\n",
       "    </tr>\n",
       "    <tr>\n",
       "      <th>4</th>\n",
       "      <td>4376</td>\n",
       "      <td>Costerà trenta euro.</td>\n",
       "      <td>378907</td>\n",
       "      <td>Dat zal € 30,- kosten.</td>\n",
       "    </tr>\n",
       "  </tbody>\n",
       "</table>\n",
       "</div>"
      ]
     },
     "execution_count": 24,
     "metadata": {},
     "output_type": "execute_result"
    }
   ],
   "execution_count": 24
  },
  {
   "metadata": {},
   "cell_type": "markdown",
   "source": "## Define function to count the phenomena frequencies in the dataset",
   "id": "5ce2367abfe7d3c0"
  },
  {
   "metadata": {
    "ExecuteTime": {
     "end_time": "2024-11-24T22:39:00.366920Z",
     "start_time": "2024-11-24T22:38:55.594002Z"
    }
   },
   "cell_type": "code",
   "source": [
    "import stanza\n",
    "\n",
    "# Load the Italian language model in stanza\n",
    "stanza.download('it')\n",
    "nlp = stanza.Pipeline(lang='it', processors='tokenize,mwt,pos,lemma')\n",
    "\n",
    "# Helper functions for phenomena detection\n",
    "def has_subject_omission(sentence):\n",
    "    \"\"\"Check if the first word of the sentence is a verb.\"\"\"\n",
    "    if not isinstance(sentence, str):\n",
    "        return False\n",
    "    doc = nlp(sentence)\n",
    "    first_word_pos = doc.sentences[0].words[0].upos if doc.sentences and doc.sentences[0].words else None\n",
    "    return first_word_pos == \"VERB\" or first_word_pos == \"AUX\"\n",
    "\n",
    "def has_reflexive_construction(sentence):\n",
    "    \"\"\"Check if the sentence contains reflexive pronouns.\"\"\"\n",
    "    reflexive_pronouns = [\"mi\", \"ti\", \"si\", \"ci\", \"vi\"]\n",
    "    return any(pronoun in sentence.split() for pronoun in reflexive_pronouns)\n",
    "\n",
    "def has_double_negation(sentence):\n",
    "    \"\"\"Check if the sentence contains double negation.\"\"\"\n",
    "    negative_words = [\"niente\", \"nessuno\", \"nessuna\", \"nessun\", \"nulla\"]\n",
    "    words = sentence.lower().split()\n",
    "    return words.count(\"non\") > 1 or \"non\" in words and any(word in words for word in negative_words)\n",
    "\n",
    "def has_diminutives_or_augmentatives(sentence):\n",
    "    \"\"\"Check if the sentence contains diminutives or augmentatives.\"\"\"\n",
    "    suffixes = [\"ino\", \"etto\", \"accio\", \"one\"]\n",
    "    return any(word.endswith(suffix) for suffix in suffixes for word in sentence.split())\n",
    "\n",
    "def has_clitic_pronouns(sentence):\n",
    "    \"\"\"Check if the sentence contains clitic pronouns.\"\"\"\n",
    "    clitic_pronouns = [\"lo\", \"la\", \"li\", \"gli\", \"le\", \"ne\", \"ci\", \"mi\", \"ti\",\n",
    "    \"glielo\", \"gliela\", \"glieli\", \"gliele\"]\n",
    "    return any(pronoun in sentence.split() for pronoun in clitic_pronouns)\n",
    "\n",
    "def phenomena_counter(df):\n",
    "  phenomena_counts = {\n",
    "    \"Rows\": len(df),\n",
    "    \"Sentences\": len(df['it_id'].unique()),\n",
    "    \"Subject Omission\": int(df['subject_omission'].sum()),\n",
    "    \"Reflexive Construction\": int(df['reflexive_construction'].sum()),\n",
    "    \"Double Negation\": int(df['double_negation'].sum()),\n",
    "    \"Diminutives and Augmentatives\": int(df['diminutives_augmentatives'].sum()),\n",
    "    \"Clitic Pronouns\": int(df['clitic_pronouns'].sum()),\n",
    "    \"Other\": len(df[~(df[['subject_omission', 'reflexive_construction', 'double_negation',\n",
    "                          'diminutives_augmentatives', 'clitic_pronouns']].any(axis=1))])\n",
    "  }\n",
    "\n",
    "  return phenomena_counts"
   ],
   "id": "69c34fcffecb70d4",
   "outputs": [
    {
     "data": {
      "text/plain": [
       "Downloading https://raw.githubusercontent.com/stanfordnlp/stanza-resources/main/resources_1.9.0.json:   0%|   …"
      ],
      "application/vnd.jupyter.widget-view+json": {
       "version_major": 2,
       "version_minor": 0,
       "model_id": "8544df8287e24658a6d1a30dd49991c5"
      }
     },
     "metadata": {},
     "output_type": "display_data"
    },
    {
     "name": "stderr",
     "output_type": "stream",
     "text": [
      "2024-11-24 23:38:55 INFO: Downloaded file to C:\\Users\\fabia\\stanza_resources\\resources.json\n",
      "2024-11-24 23:38:55 INFO: Downloading default packages for language: it (Italian) ...\n",
      "2024-11-24 23:38:56 INFO: File exists: C:\\Users\\fabia\\stanza_resources\\it\\default.zip\n",
      "2024-11-24 23:38:59 INFO: Finished downloading models and saved to C:\\Users\\fabia\\stanza_resources\n",
      "2024-11-24 23:38:59 INFO: Checking for updates to resources.json in case models have been updated.  Note: this behavior can be turned off with download_method=None or download_method=DownloadMethod.REUSE_RESOURCES\n"
     ]
    },
    {
     "data": {
      "text/plain": [
       "Downloading https://raw.githubusercontent.com/stanfordnlp/stanza-resources/main/resources_1.9.0.json:   0%|   …"
      ],
      "application/vnd.jupyter.widget-view+json": {
       "version_major": 2,
       "version_minor": 0,
       "model_id": "09d60a5a95d4495db0bfead36a591f23"
      }
     },
     "metadata": {},
     "output_type": "display_data"
    },
    {
     "name": "stderr",
     "output_type": "stream",
     "text": [
      "2024-11-24 23:38:59 INFO: Downloaded file to C:\\Users\\fabia\\stanza_resources\\resources.json\n",
      "2024-11-24 23:38:59 INFO: Loading these models for language: it (Italian):\n",
      "=================================\n",
      "| Processor | Package           |\n",
      "---------------------------------\n",
      "| tokenize  | combined          |\n",
      "| mwt       | combined          |\n",
      "| pos       | combined_charlm   |\n",
      "| lemma     | combined_nocharlm |\n",
      "=================================\n",
      "\n",
      "2024-11-24 23:38:59 INFO: Using device: cpu\n",
      "2024-11-24 23:38:59 INFO: Loading: tokenize\n",
      "C:\\Users\\fabia\\AppData\\Local\\Programs\\Python\\Python312\\Lib\\site-packages\\stanza\\models\\tokenization\\trainer.py:82: FutureWarning: You are using `torch.load` with `weights_only=False` (the current default value), which uses the default pickle module implicitly. It is possible to construct malicious pickle data which will execute arbitrary code during unpickling (See https://github.com/pytorch/pytorch/blob/main/SECURITY.md#untrusted-models for more details). In a future release, the default value for `weights_only` will be flipped to `True`. This limits the functions that could be executed during unpickling. Arbitrary objects will no longer be allowed to be loaded via this mode unless they are explicitly allowlisted by the user via `torch.serialization.add_safe_globals`. We recommend you start setting `weights_only=True` for any use case where you don't have full control of the loaded file. Please open an issue on GitHub for any issues related to this experimental feature.\n",
      "  checkpoint = torch.load(filename, lambda storage, loc: storage)\n",
      "2024-11-24 23:38:59 INFO: Loading: mwt\n",
      "C:\\Users\\fabia\\AppData\\Local\\Programs\\Python\\Python312\\Lib\\site-packages\\stanza\\models\\mwt\\trainer.py:201: FutureWarning: You are using `torch.load` with `weights_only=False` (the current default value), which uses the default pickle module implicitly. It is possible to construct malicious pickle data which will execute arbitrary code during unpickling (See https://github.com/pytorch/pytorch/blob/main/SECURITY.md#untrusted-models for more details). In a future release, the default value for `weights_only` will be flipped to `True`. This limits the functions that could be executed during unpickling. Arbitrary objects will no longer be allowed to be loaded via this mode unless they are explicitly allowlisted by the user via `torch.serialization.add_safe_globals`. We recommend you start setting `weights_only=True` for any use case where you don't have full control of the loaded file. Please open an issue on GitHub for any issues related to this experimental feature.\n",
      "  checkpoint = torch.load(filename, lambda storage, loc: storage)\n",
      "2024-11-24 23:38:59 INFO: Loading: pos\n",
      "C:\\Users\\fabia\\AppData\\Local\\Programs\\Python\\Python312\\Lib\\site-packages\\stanza\\models\\pos\\trainer.py:139: FutureWarning: You are using `torch.load` with `weights_only=False` (the current default value), which uses the default pickle module implicitly. It is possible to construct malicious pickle data which will execute arbitrary code during unpickling (See https://github.com/pytorch/pytorch/blob/main/SECURITY.md#untrusted-models for more details). In a future release, the default value for `weights_only` will be flipped to `True`. This limits the functions that could be executed during unpickling. Arbitrary objects will no longer be allowed to be loaded via this mode unless they are explicitly allowlisted by the user via `torch.serialization.add_safe_globals`. We recommend you start setting `weights_only=True` for any use case where you don't have full control of the loaded file. Please open an issue on GitHub for any issues related to this experimental feature.\n",
      "  checkpoint = torch.load(filename, lambda storage, loc: storage)\n",
      "C:\\Users\\fabia\\AppData\\Local\\Programs\\Python\\Python312\\Lib\\site-packages\\stanza\\models\\common\\pretrain.py:56: FutureWarning: You are using `torch.load` with `weights_only=False` (the current default value), which uses the default pickle module implicitly. It is possible to construct malicious pickle data which will execute arbitrary code during unpickling (See https://github.com/pytorch/pytorch/blob/main/SECURITY.md#untrusted-models for more details). In a future release, the default value for `weights_only` will be flipped to `True`. This limits the functions that could be executed during unpickling. Arbitrary objects will no longer be allowed to be loaded via this mode unless they are explicitly allowlisted by the user via `torch.serialization.add_safe_globals`. We recommend you start setting `weights_only=True` for any use case where you don't have full control of the loaded file. Please open an issue on GitHub for any issues related to this experimental feature.\n",
      "  data = torch.load(self.filename, lambda storage, loc: storage)\n",
      "C:\\Users\\fabia\\AppData\\Local\\Programs\\Python\\Python312\\Lib\\site-packages\\stanza\\models\\common\\char_model.py:271: FutureWarning: You are using `torch.load` with `weights_only=False` (the current default value), which uses the default pickle module implicitly. It is possible to construct malicious pickle data which will execute arbitrary code during unpickling (See https://github.com/pytorch/pytorch/blob/main/SECURITY.md#untrusted-models for more details). In a future release, the default value for `weights_only` will be flipped to `True`. This limits the functions that could be executed during unpickling. Arbitrary objects will no longer be allowed to be loaded via this mode unless they are explicitly allowlisted by the user via `torch.serialization.add_safe_globals`. We recommend you start setting `weights_only=True` for any use case where you don't have full control of the loaded file. Please open an issue on GitHub for any issues related to this experimental feature.\n",
      "  state = torch.load(filename, lambda storage, loc: storage)\n",
      "2024-11-24 23:39:00 INFO: Loading: lemma\n",
      "C:\\Users\\fabia\\AppData\\Local\\Programs\\Python\\Python312\\Lib\\site-packages\\stanza\\models\\lemma\\trainer.py:239: FutureWarning: You are using `torch.load` with `weights_only=False` (the current default value), which uses the default pickle module implicitly. It is possible to construct malicious pickle data which will execute arbitrary code during unpickling (See https://github.com/pytorch/pytorch/blob/main/SECURITY.md#untrusted-models for more details). In a future release, the default value for `weights_only` will be flipped to `True`. This limits the functions that could be executed during unpickling. Arbitrary objects will no longer be allowed to be loaded via this mode unless they are explicitly allowlisted by the user via `torch.serialization.add_safe_globals`. We recommend you start setting `weights_only=True` for any use case where you don't have full control of the loaded file. Please open an issue on GitHub for any issues related to this experimental feature.\n",
      "  checkpoint = torch.load(filename, lambda storage, loc: storage)\n",
      "2024-11-24 23:39:00 INFO: Done loading processors!\n"
     ]
    }
   ],
   "execution_count": 25
  },
  {
   "metadata": {
    "ExecuteTime": {
     "end_time": "2024-11-24T22:56:05.352767Z",
     "start_time": "2024-11-24T22:39:00.367925Z"
    }
   },
   "cell_type": "code",
   "source": [
    "from tqdm import tqdm\n",
    "\n",
    "# Initialize tqdm progress bar\n",
    "tqdm.pandas()\n",
    "\n",
    "# Update functions to use tqdm for progress tracking\n",
    "df['subject_omission'] = df['italian'].progress_apply(has_subject_omission)\n",
    "df['reflexive_construction'] = df['italian'].progress_apply(has_reflexive_construction)\n",
    "df['double_negation'] = df['italian'].progress_apply(has_double_negation)\n",
    "df['diminutives_augmentatives'] = df['italian'].progress_apply(has_diminutives_or_augmentatives)\n",
    "df['clitic_pronouns'] = df['italian'].progress_apply(has_clitic_pronouns)\n",
    "\n",
    "df.to_csv('Datasets/Analysis-IT-NL.tsv', sep='\\t', index=False)"
   ],
   "id": "287fdefdbe63f821",
   "outputs": [
    {
     "name": "stderr",
     "output_type": "stream",
     "text": [
      "100%|██████████| 17525/17525 [17:04<00:00, 17.11it/s] \n",
      "100%|██████████| 17525/17525 [00:00<00:00, 254776.03it/s]\n",
      "100%|██████████| 17525/17525 [00:00<00:00, 316037.12it/s]\n",
      "100%|██████████| 17525/17525 [00:00<00:00, 117639.72it/s]\n",
      "100%|██████████| 17525/17525 [00:00<00:00, 164340.01it/s]\n"
     ]
    }
   ],
   "execution_count": 26
  },
  {
   "metadata": {
    "ExecuteTime": {
     "end_time": "2024-11-24T22:56:05.369255Z",
     "start_time": "2024-11-24T22:56:05.359703Z"
    }
   },
   "cell_type": "code",
   "source": "phenomena_counter(df)",
   "id": "6d7fc96a3baf4c20",
   "outputs": [
    {
     "data": {
      "text/plain": [
       "{'Rows': 17525,\n",
       " 'Sentences': 16683,\n",
       " 'Subject Omission': 5223,\n",
       " 'Reflexive Construction': 852,\n",
       " 'Double Negation': 110,\n",
       " 'Diminutives and Augmentatives': 623,\n",
       " 'Clitic Pronouns': 2412,\n",
       " 'Other': 9718}"
      ]
     },
     "execution_count": 28,
     "metadata": {},
     "output_type": "execute_result"
    }
   ],
   "execution_count": 28
  },
  {
   "metadata": {},
   "cell_type": "markdown",
   "source": "## Check Diminutives and Augmentatives",
   "id": "59745b49cca0e9be"
  },
  {
   "metadata": {
    "ExecuteTime": {
     "end_time": "2024-11-24T22:56:05.381391Z",
     "start_time": "2024-11-24T22:56:05.370262Z"
    }
   },
   "cell_type": "code",
   "source": [
    "diminutives_augmentatives = [\n",
    "    word\n",
    "    for words in df[df['diminutives_augmentatives']]['italian'].str.split()\n",
    "    for word in words\n",
    "    if word.endswith(\"ino\") or word.endswith(\"etto\") or word.endswith(\"accio\") or word.endswith(\"one\")\n",
    "]\n",
    "\n",
    "set(diminutives_augmentatives)"
   ],
   "id": "81a8d437cf65ccab",
   "outputs": [
    {
     "data": {
      "text/plain": [
       "{'\"copione',\n",
       " '\"oggetto',\n",
       " 'Accetto',\n",
       " 'Aladino',\n",
       " 'Ammetto',\n",
       " 'Aspetto',\n",
       " 'Attenzione',\n",
       " 'Beniamino',\n",
       " 'Berlino',\n",
       " 'Buone',\n",
       " 'Dublino',\n",
       " 'Giappone',\n",
       " 'Immagino',\n",
       " \"L'amichetto\",\n",
       " \"L'architetto\",\n",
       " \"L'assassino\",\n",
       " \"L'espressione\",\n",
       " \"L'ottone\",\n",
       " \"L'ucraino\",\n",
       " \"L'unione\",\n",
       " 'L’Unione',\n",
       " 'Napoleone',\n",
       " 'Organizzazione',\n",
       " 'Pechino',\n",
       " 'Persino',\n",
       " 'Platone',\n",
       " 'Plutone',\n",
       " 'Progetto',\n",
       " 'Prometto',\n",
       " 'Proviamone',\n",
       " 'Rispetto',\n",
       " 'Valentino',\n",
       " 'ammetto',\n",
       " 'applicazione',\n",
       " 'architetto',\n",
       " 'asino',\n",
       " 'aspetto',\n",
       " 'attenzione',\n",
       " 'azione',\n",
       " 'bambino',\n",
       " 'biglietto',\n",
       " 'braccio',\n",
       " 'buone',\n",
       " 'canzone',\n",
       " 'carbone',\n",
       " 'carnagione',\n",
       " 'cassetto',\n",
       " 'cittadino',\n",
       " 'colazione',\n",
       " 'collezione',\n",
       " 'compassione',\n",
       " 'compone',\n",
       " 'concetto',\n",
       " 'connessione',\n",
       " 'conversazione',\n",
       " 'costruzione',\n",
       " 'cotone',\n",
       " 'creazione',\n",
       " 'cucino',\n",
       " 'decisione',\n",
       " 'delfino',\n",
       " \"dell'Unione\",\n",
       " \"dell'effetto\",\n",
       " \"dell'osservazione\",\n",
       " 'destinazione',\n",
       " 'destino',\n",
       " 'detto',\n",
       " 'direzione',\n",
       " 'distinzione',\n",
       " 'distrazione',\n",
       " 'edizione',\n",
       " 'effetto',\n",
       " 'faccio',\n",
       " 'faraone',\n",
       " 'fino',\n",
       " 'generazione',\n",
       " 'gestione',\n",
       " 'ghiaccio',\n",
       " 'giardino',\n",
       " 'iPhone',\n",
       " 'intenzione',\n",
       " \"l'Unione\",\n",
       " \"l'assicurazione\",\n",
       " \"l'attenzione\",\n",
       " \"l'impressione\",\n",
       " \"l'occasione\",\n",
       " 'laghetto',\n",
       " 'latino',\n",
       " 'leone',\n",
       " 'letto',\n",
       " 'lezione',\n",
       " 'limone',\n",
       " 'maglione',\n",
       " 'marino',\n",
       " 'marrone',\n",
       " 'mattino',\n",
       " 'memorizzazione',\n",
       " 'milione',\n",
       " 'modellino',\n",
       " 'montone',\n",
       " 'motorino',\n",
       " 'nazione',\n",
       " 'obiezione',\n",
       " 'oggetto',\n",
       " 'opinione',\n",
       " 'oppone',\n",
       " 'orsetto',\n",
       " 'pavone',\n",
       " 'pensione',\n",
       " 'perfetto',\n",
       " 'persino',\n",
       " 'persone',\n",
       " 'piccione',\n",
       " 'pone',\n",
       " 'popolazione',\n",
       " 'postino',\n",
       " 'prenotazione',\n",
       " 'preoccupazione',\n",
       " 'presentazione',\n",
       " 'prevenzione',\n",
       " 'prigione',\n",
       " 'produzione',\n",
       " 'progetto',\n",
       " 'prostituzione',\n",
       " 'questione',\n",
       " 'ragazzino',\n",
       " 'ragione',\n",
       " 'realizzazione',\n",
       " 'regione',\n",
       " 'relazione',\n",
       " 'religione',\n",
       " 'reputazione',\n",
       " 'revisione',\n",
       " 'ribellione',\n",
       " 'riduzione',\n",
       " 'riparazione',\n",
       " 'rispettino',\n",
       " 'rispetto',\n",
       " 'riunione',\n",
       " 'romanizzazione',\n",
       " 'rubinetto',\n",
       " 'scorpione',\n",
       " 'sensazione',\n",
       " 'situazione',\n",
       " 'smartphone',\n",
       " 'soggetto',\n",
       " 'soluzione',\n",
       " 'sonetto',\n",
       " 'sospetto',\n",
       " 'spiegazione',\n",
       " 'stagione',\n",
       " 'stallone',\n",
       " 'stazione',\n",
       " 'superstizione',\n",
       " 'tacchino',\n",
       " 'tallone',\n",
       " 'televisione',\n",
       " 'testimone',\n",
       " 'tetto',\n",
       " 'tradizione',\n",
       " 'traduzione',\n",
       " 'trasfusione',\n",
       " 'trasmissione',\n",
       " \"un'eccezione\",\n",
       " \"un'illusione\",\n",
       " \"un'immaginazione\",\n",
       " \"un'infezione\",\n",
       " \"un'invenzione\",\n",
       " \"un'inversione\",\n",
       " 'vicino',\n",
       " 'vino',\n",
       " 'violazione'}"
      ]
     },
     "execution_count": 29,
     "metadata": {},
     "output_type": "execute_result"
    }
   ],
   "execution_count": 29
  },
  {
   "metadata": {},
   "cell_type": "markdown",
   "source": "### Adjusting the flag based on the actual diminutives and augmentatives",
   "id": "2c0aa4f84450429a"
  },
  {
   "metadata": {
    "ExecuteTime": {
     "end_time": "2024-11-24T22:56:05.403561Z",
     "start_time": "2024-11-24T22:56:05.382402Z"
    }
   },
   "cell_type": "code",
   "source": [
    "actual_diminutives_augmentatives = [\"L'amichetto\", 'laghetto', 'modellino', 'motorino', 'orsetto', 'ragazzino']\n",
    "\n",
    "df.loc[\n",
    "    df['diminutives_augmentatives'] & ~df['italian'].str.contains('|'.join(actual_diminutives_augmentatives), na=False),\n",
    "    'diminutives_augmentatives'\n",
    "] = False\n",
    "phenomena_counter(df)"
   ],
   "id": "254b491023700dc2",
   "outputs": [
    {
     "data": {
      "text/plain": [
       "{'Rows': 17525,\n",
       " 'Sentences': 16683,\n",
       " 'Subject Omission': 5223,\n",
       " 'Reflexive Construction': 852,\n",
       " 'Double Negation': 110,\n",
       " 'Diminutives and Augmentatives': 7,\n",
       " 'Clitic Pronouns': 2412,\n",
       " 'Other': 10056}"
      ]
     },
     "execution_count": 30,
     "metadata": {},
     "output_type": "execute_result"
    }
   ],
   "execution_count": 30
  },
  {
   "metadata": {},
   "cell_type": "markdown",
   "source": "## Split the dataset into single and multiple translations",
   "id": "fd443d67752b5cec"
  },
  {
   "metadata": {
    "ExecuteTime": {
     "end_time": "2024-11-24T22:56:05.416902Z",
     "start_time": "2024-11-24T22:56:05.404569Z"
    }
   },
   "cell_type": "code",
   "source": [
    "multiple_translation_df = df[df['nl_id'].isin(df['nl_id'].value_counts()[lambda x: x > 1].index)]\n",
    "phenomena_counter(multiple_translation_df)"
   ],
   "id": "7edde88fdc547de5",
   "outputs": [
    {
     "data": {
      "text/plain": [
       "{'Rows': 9636,\n",
       " 'Sentences': 9191,\n",
       " 'Subject Omission': 3260,\n",
       " 'Reflexive Construction': 361,\n",
       " 'Double Negation': 69,\n",
       " 'Diminutives and Augmentatives': 0,\n",
       " 'Clitic Pronouns': 1216,\n",
       " 'Other': 5318}"
      ]
     },
     "execution_count": 31,
     "metadata": {},
     "output_type": "execute_result"
    }
   ],
   "execution_count": 31
  },
  {
   "metadata": {
    "ExecuteTime": {
     "end_time": "2024-11-24T22:56:05.427385Z",
     "start_time": "2024-11-24T22:56:05.417908Z"
    }
   },
   "cell_type": "code",
   "source": [
    "df = df[~df.index.isin(multiple_translation_df.index)]\n",
    "phenomena_counter(df)"
   ],
   "id": "bc5ce3fa92a1f63f",
   "outputs": [
    {
     "data": {
      "text/plain": [
       "{'Rows': 7889,\n",
       " 'Sentences': 7585,\n",
       " 'Subject Omission': 1963,\n",
       " 'Reflexive Construction': 491,\n",
       " 'Double Negation': 41,\n",
       " 'Diminutives and Augmentatives': 7,\n",
       " 'Clitic Pronouns': 1196,\n",
       " 'Other': 4738}"
      ]
     },
     "execution_count": 32,
     "metadata": {},
     "output_type": "execute_result"
    }
   ],
   "execution_count": 32
  },
  {
   "metadata": {},
   "cell_type": "markdown",
   "source": "## Create a curated dataset with a balanced distribution of phenomena",
   "id": "5ad1b6f6d90d912e"
  },
  {
   "metadata": {
    "ExecuteTime": {
     "end_time": "2024-11-24T22:56:05.470511Z",
     "start_time": "2024-11-24T22:56:05.428429Z"
    }
   },
   "cell_type": "code",
   "source": [
    "def sample_and_remove(source_df, target_df, column_name, n):\n",
    "    if len(source_df[source_df[column_name]]) < n:\n",
    "        n = len(source_df[source_df[column_name]])\n",
    "    sample = source_df[source_df[column_name]].sample(n=n, replace=False)\n",
    "    source_df = source_df.drop(sample.index)\n",
    "    target_df = pd.concat([target_df, sample], ignore_index=True)\n",
    "    return source_df, target_df, n\n",
    "\n",
    "curated_df = pd.DataFrame(columns=df.columns)\n",
    "\n",
    "phenomena = [\n",
    "    'subject_omission',\n",
    "    'reflexive_construction',\n",
    "    'double_negation',\n",
    "    'diminutives_augmentatives',\n",
    "    'clitic_pronouns'\n",
    "]\n",
    "\n",
    "for phenomenon in phenomena:\n",
    "    multiple_translation_df, curated_df, n = sample_and_remove(multiple_translation_df, curated_df, phenomenon, 60)\n",
    "    df, curated_df, m = sample_and_remove(df, curated_df, phenomenon, 120 - n)\n",
    "    if m + n != 120:\n",
    "      print(f\"Missing {120 - m - n} sentences for {phenomenon}\\n\")"
   ],
   "id": "f5eb2e899b80171f",
   "outputs": [
    {
     "name": "stdout",
     "output_type": "stream",
     "text": [
      "Missing 19 sentences for double_negation\n",
      "\n",
      "Missing 113 sentences for diminutives_augmentatives\n",
      "\n"
     ]
    }
   ],
   "execution_count": 33
  },
  {
   "metadata": {},
   "cell_type": "markdown",
   "source": "## Add the generated sentences",
   "id": "42a80d31285df0eb"
  },
  {
   "metadata": {
    "ExecuteTime": {
     "end_time": "2024-11-24T23:06:43.926506Z",
     "start_time": "2024-11-24T23:06:43.724069Z"
    }
   },
   "cell_type": "code",
   "source": [
    "generated_df = pd.read_csv('Datasets/Double-Negation-Generated-IT-NL.tsv', sep='\\t')\n",
    "tmp = pd.read_csv('Datasets/Diminutives-Augmentatives-Generated-IT-NL.tsv', sep='\\t')\n",
    "generated_df = pd.concat([generated_df, tmp], ignore_index=True)\n",
    "\n",
    "for _, row in generated_df.iterrows():\n",
    "    sentence = row['italian']\n",
    "    translation = row['dutch']\n",
    "    \n",
    "    if sentence in curated_df['italian'].values:\n",
    "        it_id = curated_df.loc[curated_df['italian'] == sentence, 'it_id'].values[0]\n",
    "    else:\n",
    "        it_id = curated_df['it_id'].max() + 1 if not curated_df.empty else 1  \n",
    "    \n",
    "    if translation in curated_df['dutch'].values:\n",
    "        nl_id = curated_df.loc[curated_df['dutch'] == translation, 'nl_id'].values[0]\n",
    "    else:\n",
    "        nl_id = curated_df['nl_id'].max() + 1 if not curated_df.empty else 1\n",
    "\n",
    "    new_row = pd.DataFrame({'it_id': [it_id], 'italian': [sentence], 'nl_id': [nl_id], 'dutch': [translation]})\n",
    "    curated_df = pd.concat([curated_df, new_row], ignore_index=True)"
   ],
   "id": "fce75a585698f6dd",
   "outputs": [
    {
     "data": {
      "text/plain": [
       "{'Rows': 600,\n",
       " 'Sentences': 591,\n",
       " 'Subject Omission': 156,\n",
       " 'Reflexive Construction': 154,\n",
       " 'Double Negation': 103,\n",
       " 'Diminutives and Augmentatives': 7,\n",
       " 'Clitic Pronouns': 231,\n",
       " 'Other': 132}"
      ]
     },
     "execution_count": 40,
     "metadata": {},
     "output_type": "execute_result"
    }
   ],
   "execution_count": 40
  },
  {
   "metadata": {},
   "cell_type": "markdown",
   "source": "## Add random sentences for variety",
   "id": "b8d25141c1929338"
  },
  {
   "metadata": {
    "ExecuteTime": {
     "end_time": "2024-11-24T23:07:31.822505Z",
     "start_time": "2024-11-24T23:07:31.815331Z"
    }
   },
   "cell_type": "code",
   "source": [
    "curated_df = pd.concat([curated_df, df.sample(n=400, replace=False)], ignore_index=True)\n",
    "len(curated_df)"
   ],
   "id": "278f985b00125357",
   "outputs": [
    {
     "data": {
      "text/plain": [
       "1000"
      ]
     },
     "execution_count": 41,
     "metadata": {},
     "output_type": "execute_result"
    }
   ],
   "execution_count": 41
  },
  {
   "metadata": {},
   "cell_type": "markdown",
   "source": "## Save the curated dataset",
   "id": "a2f96d72ad84c5ba"
  },
  {
   "metadata": {
    "ExecuteTime": {
     "end_time": "2024-11-24T23:09:27.013321Z",
     "start_time": "2024-11-24T23:09:27.004271Z"
    }
   },
   "cell_type": "code",
   "source": [
    "curated_df.drop(columns=[\n",
    "    'subject_omission',\n",
    "    'reflexive_construction',\n",
    "    'double_negation',\n",
    "    'diminutives_augmentatives',\n",
    "    'clitic_pronouns'\n",
    "], inplace=True, errors='ignore')\n",
    "curated_df.to_csv('Datasets/Curated-IT-NL.tsv', sep='\\t', index=False)"
   ],
   "id": "91b79a7dfdfcd129",
   "outputs": [],
   "execution_count": 45
  }
 ],
 "metadata": {
  "kernelspec": {
   "display_name": "Python 3",
   "language": "python",
   "name": "python3"
  },
  "language_info": {
   "codemirror_mode": {
    "name": "ipython",
    "version": 2
   },
   "file_extension": ".py",
   "mimetype": "text/x-python",
   "name": "python",
   "nbconvert_exporter": "python",
   "pygments_lexer": "ipython2",
   "version": "2.7.6"
  }
 },
 "nbformat": 4,
 "nbformat_minor": 5
}
