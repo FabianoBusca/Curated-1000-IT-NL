{
 "cells": [
  {
   "cell_type": "code",
   "id": "initial_id",
   "metadata": {
    "collapsed": true,
    "ExecuteTime": {
     "end_time": "2024-11-20T13:15:53.134749Z",
     "start_time": "2024-11-20T13:15:52.105837Z"
    }
   },
   "source": "import pandas as pd",
   "outputs": [],
   "execution_count": 1
  },
  {
   "metadata": {},
   "cell_type": "markdown",
   "source": "## Load the Italian-Dutch parallel corpus",
   "id": "84f495f860283978"
  },
  {
   "metadata": {
    "ExecuteTime": {
     "end_time": "2024-11-20T13:15:53.210603Z",
     "start_time": "2024-11-20T13:15:53.138288Z"
    }
   },
   "cell_type": "code",
   "source": [
    "columns = ['it_id', 'italian', 'nl_id', 'dutch']\n",
    "df = pd.read_csv('Datasets/Tatoeba-it-nl.tsv', sep='\\t', header=None)\n",
    "df.columns = columns\n",
    "df.head()"
   ],
   "id": "47f9f3a60c6a7c5d",
   "outputs": [
    {
     "data": {
      "text/plain": [
       "   it_id                           italian   nl_id  \\\n",
       "0   4369            Devo andare a dormire.    5966   \n",
       "1   4371                        Che cos'è?    5970   \n",
       "2   4373  La parola d'accesso è \"Muiriel\".    5985   \n",
       "3   4375              Non cambierà niente.  379556   \n",
       "4   4376              Costerà trenta euro.  378907   \n",
       "\n",
       "                                   dutch  \n",
       "0                   Ik moet gaan slapen.  \n",
       "1                            Wat is dat?  \n",
       "2           Het wachtwoord is \"Muiriel\".  \n",
       "3  Dat zal niets aan de zaak veranderen.  \n",
       "4                 Dat zal € 30,- kosten.  "
      ],
      "text/html": [
       "<div>\n",
       "<style scoped>\n",
       "    .dataframe tbody tr th:only-of-type {\n",
       "        vertical-align: middle;\n",
       "    }\n",
       "\n",
       "    .dataframe tbody tr th {\n",
       "        vertical-align: top;\n",
       "    }\n",
       "\n",
       "    .dataframe thead th {\n",
       "        text-align: right;\n",
       "    }\n",
       "</style>\n",
       "<table border=\"1\" class=\"dataframe\">\n",
       "  <thead>\n",
       "    <tr style=\"text-align: right;\">\n",
       "      <th></th>\n",
       "      <th>it_id</th>\n",
       "      <th>italian</th>\n",
       "      <th>nl_id</th>\n",
       "      <th>dutch</th>\n",
       "    </tr>\n",
       "  </thead>\n",
       "  <tbody>\n",
       "    <tr>\n",
       "      <th>0</th>\n",
       "      <td>4369</td>\n",
       "      <td>Devo andare a dormire.</td>\n",
       "      <td>5966</td>\n",
       "      <td>Ik moet gaan slapen.</td>\n",
       "    </tr>\n",
       "    <tr>\n",
       "      <th>1</th>\n",
       "      <td>4371</td>\n",
       "      <td>Che cos'è?</td>\n",
       "      <td>5970</td>\n",
       "      <td>Wat is dat?</td>\n",
       "    </tr>\n",
       "    <tr>\n",
       "      <th>2</th>\n",
       "      <td>4373</td>\n",
       "      <td>La parola d'accesso è \"Muiriel\".</td>\n",
       "      <td>5985</td>\n",
       "      <td>Het wachtwoord is \"Muiriel\".</td>\n",
       "    </tr>\n",
       "    <tr>\n",
       "      <th>3</th>\n",
       "      <td>4375</td>\n",
       "      <td>Non cambierà niente.</td>\n",
       "      <td>379556</td>\n",
       "      <td>Dat zal niets aan de zaak veranderen.</td>\n",
       "    </tr>\n",
       "    <tr>\n",
       "      <th>4</th>\n",
       "      <td>4376</td>\n",
       "      <td>Costerà trenta euro.</td>\n",
       "      <td>378907</td>\n",
       "      <td>Dat zal € 30,- kosten.</td>\n",
       "    </tr>\n",
       "  </tbody>\n",
       "</table>\n",
       "</div>"
      ]
     },
     "execution_count": 2,
     "metadata": {},
     "output_type": "execute_result"
    }
   ],
   "execution_count": 2
  },
  {
   "metadata": {},
   "cell_type": "markdown",
   "source": "## Define function to count the phenomena frequencies in the dataset",
   "id": "5ce2367abfe7d3c0"
  },
  {
   "metadata": {
    "ExecuteTime": {
     "end_time": "2024-11-20T13:16:07.980714Z",
     "start_time": "2024-11-20T13:15:53.211611Z"
    }
   },
   "cell_type": "code",
   "source": [
    "import stanza\n",
    "\n",
    "# Load the Italian language model in stanza\n",
    "stanza.download('it')\n",
    "nlp = stanza.Pipeline(lang='it', processors='tokenize,mwt,pos,lemma')\n",
    "\n",
    "# Helper functions for phenomena detection\n",
    "def has_subject_omission(sentence):\n",
    "    \"\"\"Check if the first word of the sentence is a verb.\"\"\"\n",
    "    if not isinstance(sentence, str):\n",
    "        return False\n",
    "    doc = nlp(sentence)\n",
    "    first_word_pos = doc.sentences[0].words[0].upos if doc.sentences and doc.sentences[0].words else None\n",
    "    return first_word_pos == \"VERB\" or first_word_pos == \"AUX\"\n",
    "\n",
    "def has_reflexive_construction(sentence):\n",
    "    \"\"\"Check if the sentence contains reflexive pronouns.\"\"\"\n",
    "    reflexive_pronouns = [\"mi\", \"ti\", \"si\", \"ci\", \"vi\"]\n",
    "    return any(pronoun in sentence.split() for pronoun in reflexive_pronouns)\n",
    "\n",
    "def has_double_negation(sentence):\n",
    "    \"\"\"Check if the sentence contains double negation.\"\"\"\n",
    "    negative_words = [\"niente\", \"nessuno\", \"nulla\"]\n",
    "    return \"non\" in sentence.split() and any(word in sentence.split() for word in negative_words)\n",
    "\n",
    "def has_diminutives_or_augmentatives(sentence):\n",
    "    \"\"\"Check if the sentence contains diminutives or augmentatives.\"\"\"\n",
    "    suffixes = [\"ino\", \"etto\", \"accio\", \"one\"]\n",
    "    return any(word.endswith(suffix) for suffix in suffixes for word in sentence.split())\n",
    "\n",
    "def has_clitic_pronouns(sentence):\n",
    "    \"\"\"Check if the sentence contains clitic pronouns.\"\"\"\n",
    "    clitic_pronouns = [\"lo\", \"la\", \"li\", \"gli\", \"le\", \"ne\", \"ci\", \"mi\", \"ti\",\n",
    "    \"glielo\", \"gliela\", \"glieli\", \"gliele\"]\n",
    "    return any(pronoun in sentence.split() for pronoun in clitic_pronouns)\n",
    "\n",
    "def phenomena_counter(df):\n",
    "  phenomena_counts = {\n",
    "    \"Rows\": len(df),\n",
    "    \"Sentences\": len(df['it_id'].unique()),\n",
    "    \"Subject Omission\": df['subject_omission'].sum(),\n",
    "    \"Reflexive Construction\": df['reflexive_construction'].sum(),\n",
    "    \"Double Negation\": df['double_negation'].sum(),\n",
    "    \"Diminutives and Augmentatives\": df['diminutives_augmentatives'].sum(),\n",
    "    \"Clitic Pronouns\": df['clitic_pronouns'].sum(),\n",
    "    \"Other\": len(df[~(df[['subject_omission', 'reflexive_construction', 'double_negation',\n",
    "                          'diminutives_augmentatives', 'clitic_pronouns']].any(axis=1))])\n",
    "  }\n",
    "\n",
    "  return phenomena_counts"
   ],
   "id": "69c34fcffecb70d4",
   "outputs": [
    {
     "data": {
      "text/plain": [
       "Downloading https://raw.githubusercontent.com/stanfordnlp/stanza-resources/main/resources_1.9.0.json:   0%|   …"
      ],
      "application/vnd.jupyter.widget-view+json": {
       "version_major": 2,
       "version_minor": 0,
       "model_id": "73ef3beb15d04c05b2a0568eb24f7300"
      }
     },
     "metadata": {},
     "output_type": "display_data"
    },
    {
     "name": "stderr",
     "output_type": "stream",
     "text": [
      "2024-11-20 14:15:58 INFO: Downloaded file to C:\\Users\\fabia\\stanza_resources\\resources.json\n",
      "2024-11-20 14:15:58 INFO: Downloading default packages for language: it (Italian) ...\n",
      "2024-11-20 14:15:59 INFO: File exists: C:\\Users\\fabia\\stanza_resources\\it\\default.zip\n",
      "2024-11-20 14:16:04 INFO: Finished downloading models and saved to C:\\Users\\fabia\\stanza_resources\n",
      "2024-11-20 14:16:04 INFO: Checking for updates to resources.json in case models have been updated.  Note: this behavior can be turned off with download_method=None or download_method=DownloadMethod.REUSE_RESOURCES\n"
     ]
    },
    {
     "data": {
      "text/plain": [
       "Downloading https://raw.githubusercontent.com/stanfordnlp/stanza-resources/main/resources_1.9.0.json:   0%|   …"
      ],
      "application/vnd.jupyter.widget-view+json": {
       "version_major": 2,
       "version_minor": 0,
       "model_id": "28cba201e25946678bcd1a65bba7cd07"
      }
     },
     "metadata": {},
     "output_type": "display_data"
    },
    {
     "name": "stderr",
     "output_type": "stream",
     "text": [
      "2024-11-20 14:16:04 INFO: Downloaded file to C:\\Users\\fabia\\stanza_resources\\resources.json\n",
      "2024-11-20 14:16:05 INFO: Loading these models for language: it (Italian):\n",
      "=================================\n",
      "| Processor | Package           |\n",
      "---------------------------------\n",
      "| tokenize  | combined          |\n",
      "| mwt       | combined          |\n",
      "| pos       | combined_charlm   |\n",
      "| lemma     | combined_nocharlm |\n",
      "=================================\n",
      "\n",
      "2024-11-20 14:16:05 INFO: Using device: cpu\n",
      "2024-11-20 14:16:05 INFO: Loading: tokenize\n",
      "C:\\Users\\fabia\\AppData\\Local\\Programs\\Python\\Python312\\Lib\\site-packages\\stanza\\models\\tokenization\\trainer.py:82: FutureWarning: You are using `torch.load` with `weights_only=False` (the current default value), which uses the default pickle module implicitly. It is possible to construct malicious pickle data which will execute arbitrary code during unpickling (See https://github.com/pytorch/pytorch/blob/main/SECURITY.md#untrusted-models for more details). In a future release, the default value for `weights_only` will be flipped to `True`. This limits the functions that could be executed during unpickling. Arbitrary objects will no longer be allowed to be loaded via this mode unless they are explicitly allowlisted by the user via `torch.serialization.add_safe_globals`. We recommend you start setting `weights_only=True` for any use case where you don't have full control of the loaded file. Please open an issue on GitHub for any issues related to this experimental feature.\n",
      "  checkpoint = torch.load(filename, lambda storage, loc: storage)\n",
      "2024-11-20 14:16:07 INFO: Loading: mwt\n",
      "C:\\Users\\fabia\\AppData\\Local\\Programs\\Python\\Python312\\Lib\\site-packages\\stanza\\models\\mwt\\trainer.py:201: FutureWarning: You are using `torch.load` with `weights_only=False` (the current default value), which uses the default pickle module implicitly. It is possible to construct malicious pickle data which will execute arbitrary code during unpickling (See https://github.com/pytorch/pytorch/blob/main/SECURITY.md#untrusted-models for more details). In a future release, the default value for `weights_only` will be flipped to `True`. This limits the functions that could be executed during unpickling. Arbitrary objects will no longer be allowed to be loaded via this mode unless they are explicitly allowlisted by the user via `torch.serialization.add_safe_globals`. We recommend you start setting `weights_only=True` for any use case where you don't have full control of the loaded file. Please open an issue on GitHub for any issues related to this experimental feature.\n",
      "  checkpoint = torch.load(filename, lambda storage, loc: storage)\n",
      "2024-11-20 14:16:07 INFO: Loading: pos\n",
      "C:\\Users\\fabia\\AppData\\Local\\Programs\\Python\\Python312\\Lib\\site-packages\\stanza\\models\\pos\\trainer.py:139: FutureWarning: You are using `torch.load` with `weights_only=False` (the current default value), which uses the default pickle module implicitly. It is possible to construct malicious pickle data which will execute arbitrary code during unpickling (See https://github.com/pytorch/pytorch/blob/main/SECURITY.md#untrusted-models for more details). In a future release, the default value for `weights_only` will be flipped to `True`. This limits the functions that could be executed during unpickling. Arbitrary objects will no longer be allowed to be loaded via this mode unless they are explicitly allowlisted by the user via `torch.serialization.add_safe_globals`. We recommend you start setting `weights_only=True` for any use case where you don't have full control of the loaded file. Please open an issue on GitHub for any issues related to this experimental feature.\n",
      "  checkpoint = torch.load(filename, lambda storage, loc: storage)\n",
      "C:\\Users\\fabia\\AppData\\Local\\Programs\\Python\\Python312\\Lib\\site-packages\\stanza\\models\\common\\pretrain.py:56: FutureWarning: You are using `torch.load` with `weights_only=False` (the current default value), which uses the default pickle module implicitly. It is possible to construct malicious pickle data which will execute arbitrary code during unpickling (See https://github.com/pytorch/pytorch/blob/main/SECURITY.md#untrusted-models for more details). In a future release, the default value for `weights_only` will be flipped to `True`. This limits the functions that could be executed during unpickling. Arbitrary objects will no longer be allowed to be loaded via this mode unless they are explicitly allowlisted by the user via `torch.serialization.add_safe_globals`. We recommend you start setting `weights_only=True` for any use case where you don't have full control of the loaded file. Please open an issue on GitHub for any issues related to this experimental feature.\n",
      "  data = torch.load(self.filename, lambda storage, loc: storage)\n",
      "C:\\Users\\fabia\\AppData\\Local\\Programs\\Python\\Python312\\Lib\\site-packages\\stanza\\models\\common\\char_model.py:271: FutureWarning: You are using `torch.load` with `weights_only=False` (the current default value), which uses the default pickle module implicitly. It is possible to construct malicious pickle data which will execute arbitrary code during unpickling (See https://github.com/pytorch/pytorch/blob/main/SECURITY.md#untrusted-models for more details). In a future release, the default value for `weights_only` will be flipped to `True`. This limits the functions that could be executed during unpickling. Arbitrary objects will no longer be allowed to be loaded via this mode unless they are explicitly allowlisted by the user via `torch.serialization.add_safe_globals`. We recommend you start setting `weights_only=True` for any use case where you don't have full control of the loaded file. Please open an issue on GitHub for any issues related to this experimental feature.\n",
      "  state = torch.load(filename, lambda storage, loc: storage)\n",
      "2024-11-20 14:16:07 INFO: Loading: lemma\n",
      "C:\\Users\\fabia\\AppData\\Local\\Programs\\Python\\Python312\\Lib\\site-packages\\stanza\\models\\lemma\\trainer.py:239: FutureWarning: You are using `torch.load` with `weights_only=False` (the current default value), which uses the default pickle module implicitly. It is possible to construct malicious pickle data which will execute arbitrary code during unpickling (See https://github.com/pytorch/pytorch/blob/main/SECURITY.md#untrusted-models for more details). In a future release, the default value for `weights_only` will be flipped to `True`. This limits the functions that could be executed during unpickling. Arbitrary objects will no longer be allowed to be loaded via this mode unless they are explicitly allowlisted by the user via `torch.serialization.add_safe_globals`. We recommend you start setting `weights_only=True` for any use case where you don't have full control of the loaded file. Please open an issue on GitHub for any issues related to this experimental feature.\n",
      "  checkpoint = torch.load(filename, lambda storage, loc: storage)\n",
      "2024-11-20 14:16:07 INFO: Done loading processors!\n"
     ]
    }
   ],
   "execution_count": 3
  },
  {
   "metadata": {
    "ExecuteTime": {
     "end_time": "2024-11-20T13:35:01.753647Z",
     "start_time": "2024-11-20T13:16:07.982726Z"
    }
   },
   "cell_type": "code",
   "source": [
    "from tqdm import tqdm\n",
    "\n",
    "# Initialize tqdm progress bar\n",
    "tqdm.pandas()\n",
    "\n",
    "# Update functions to use tqdm for progress tracking\n",
    "df['subject_omission'] = df['italian'].progress_apply(has_subject_omission)\n",
    "df['reflexive_construction'] = df['italian'].progress_apply(has_reflexive_construction)\n",
    "df['double_negation'] = df['italian'].progress_apply(has_double_negation)\n",
    "df['diminutives_augmentatives'] = df['italian'].progress_apply(has_diminutives_or_augmentatives)\n",
    "df['clitic_pronouns'] = df['italian'].progress_apply(has_clitic_pronouns)"
   ],
   "id": "287fdefdbe63f821",
   "outputs": [
    {
     "name": "stderr",
     "output_type": "stream",
     "text": [
      "100%|██████████| 17525/17525 [18:53<00:00, 15.46it/s]\n",
      "100%|██████████| 17525/17525 [00:00<00:00, 282496.00it/s]\n",
      "100%|██████████| 17525/17525 [00:00<00:00, 532653.93it/s]\n",
      "100%|██████████| 17525/17525 [00:00<00:00, 155731.31it/s]\n",
      "100%|██████████| 17525/17525 [00:00<00:00, 143178.33it/s]\n"
     ]
    }
   ],
   "execution_count": 4
  },
  {
   "metadata": {
    "ExecuteTime": {
     "end_time": "2024-11-20T13:35:01.770717Z",
     "start_time": "2024-11-20T13:35:01.757222Z"
    }
   },
   "cell_type": "code",
   "source": "phenomena_counter(df)",
   "id": "6d7fc96a3baf4c20",
   "outputs": [
    {
     "data": {
      "text/plain": [
       "{'Rows': 17525,\n",
       " 'Sentences': 16683,\n",
       " 'Subject Omission': np.int64(5223),\n",
       " 'Reflexive Construction': np.int64(852),\n",
       " 'Double Negation': np.int64(37),\n",
       " 'Diminutives and Augmentatives': np.int64(623),\n",
       " 'Clitic Pronouns': np.int64(2412),\n",
       " 'Other': 9770}"
      ]
     },
     "execution_count": 5,
     "metadata": {},
     "output_type": "execute_result"
    }
   ],
   "execution_count": 5
  },
  {
   "metadata": {},
   "cell_type": "markdown",
   "source": "## Split the dataset into single and multiple translations",
   "id": "fd443d67752b5cec"
  },
  {
   "metadata": {
    "ExecuteTime": {
     "end_time": "2024-11-20T13:35:01.787551Z",
     "start_time": "2024-11-20T13:35:01.771816Z"
    }
   },
   "cell_type": "code",
   "source": [
    "multiple_translation_df = df[df['nl_id'].isin(df['nl_id'].value_counts()[lambda x: x > 1].index)]\n",
    "phenomena_counter(multiple_translation_df)"
   ],
   "id": "7edde88fdc547de5",
   "outputs": [
    {
     "data": {
      "text/plain": [
       "{'Rows': 9636,\n",
       " 'Sentences': 9191,\n",
       " 'Subject Omission': np.int64(3260),\n",
       " 'Reflexive Construction': np.int64(361),\n",
       " 'Double Negation': np.int64(27),\n",
       " 'Diminutives and Augmentatives': np.int64(257),\n",
       " 'Clitic Pronouns': np.int64(1216),\n",
       " 'Other': 5211}"
      ]
     },
     "execution_count": 6,
     "metadata": {},
     "output_type": "execute_result"
    }
   ],
   "execution_count": 6
  },
  {
   "metadata": {
    "ExecuteTime": {
     "end_time": "2024-11-20T13:35:01.801780Z",
     "start_time": "2024-11-20T13:35:01.789559Z"
    }
   },
   "cell_type": "code",
   "source": [
    "df = df[~df.index.isin(multiple_translation_df.index)]\n",
    "phenomena_counter(df)"
   ],
   "id": "bc5ce3fa92a1f63f",
   "outputs": [
    {
     "data": {
      "text/plain": [
       "{'Rows': 7889,\n",
       " 'Sentences': 7585,\n",
       " 'Subject Omission': np.int64(1963),\n",
       " 'Reflexive Construction': np.int64(491),\n",
       " 'Double Negation': np.int64(10),\n",
       " 'Diminutives and Augmentatives': np.int64(366),\n",
       " 'Clitic Pronouns': np.int64(1196),\n",
       " 'Other': 4559}"
      ]
     },
     "execution_count": 7,
     "metadata": {},
     "output_type": "execute_result"
    }
   ],
   "execution_count": 7
  },
  {
   "metadata": {},
   "cell_type": "markdown",
   "source": "## Create a curated dataset with a balanced distribution of phenomena",
   "id": "5ad1b6f6d90d912e"
  },
  {
   "metadata": {
    "ExecuteTime": {
     "end_time": "2024-11-20T13:35:01.868887Z",
     "start_time": "2024-11-20T13:35:01.803910Z"
    }
   },
   "cell_type": "code",
   "source": [
    "def sample_and_remove(source_df, target_df, column_name, n):\n",
    "    if len(source_df[source_df[column_name]]) < n:\n",
    "        n = len(source_df[source_df[column_name]])\n",
    "    sample = source_df[source_df[column_name]].sample(n=n, replace=False)\n",
    "    source_df = source_df.drop(sample.index)\n",
    "    target_df = pd.concat([target_df, sample], ignore_index=True)\n",
    "    return source_df, target_df, n\n",
    "\n",
    "curated_df = pd.DataFrame(columns=df.columns)\n",
    "\n",
    "phenomena = [\n",
    "    'subject_omission',\n",
    "    'reflexive_construction',\n",
    "    'double_negation',\n",
    "    'diminutives_augmentatives',\n",
    "    'clitic_pronouns'\n",
    "]\n",
    "\n",
    "for phenomenon in phenomena:\n",
    "    multiple_translation_df, curated_df, n = sample_and_remove(multiple_translation_df, curated_df, phenomenon, 60)\n",
    "    df, curated_df, m = sample_and_remove(df, curated_df, phenomenon, 120 - n)\n",
    "    if m + n != 120:\n",
    "      print(f\"Missing {120 - m - n} sentences for {phenomenon}\\n\")"
   ],
   "id": "f5eb2e899b80171f",
   "outputs": [
    {
     "name": "stdout",
     "output_type": "stream",
     "text": [
      "Missing 84 sentences for double_negation\n",
      "\n"
     ]
    }
   ],
   "execution_count": 8
  },
  {
   "metadata": {
    "ExecuteTime": {
     "end_time": "2024-11-20T13:35:01.884005Z",
     "start_time": "2024-11-20T13:35:01.871901Z"
    }
   },
   "cell_type": "code",
   "source": "phenomena_counter(curated_df)",
   "id": "7c467cc48af020a3",
   "outputs": [
    {
     "data": {
      "text/plain": [
       "{'Rows': 516,\n",
       " 'Sentences': 511,\n",
       " 'Subject Omission': 191,\n",
       " 'Reflexive Construction': 149,\n",
       " 'Double Negation': 37,\n",
       " 'Diminutives and Augmentatives': 136,\n",
       " 'Clitic Pronouns': 237,\n",
       " 'Other': 0}"
      ]
     },
     "execution_count": 9,
     "metadata": {},
     "output_type": "execute_result"
    }
   ],
   "execution_count": 9
  },
  {
   "metadata": {},
   "cell_type": "markdown",
   "source": "## Add random sentences for variety",
   "id": "b8d25141c1929338"
  },
  {
   "metadata": {
    "ExecuteTime": {
     "end_time": "2024-11-20T13:35:01.900149Z",
     "start_time": "2024-11-20T13:35:01.887075Z"
    }
   },
   "cell_type": "code",
   "source": [
    "curated_df = pd.concat([curated_df, df.sample(n=400, replace=False)], ignore_index=True)\n",
    "phenomena_counter(curated_df)"
   ],
   "id": "278f985b00125357",
   "outputs": [
    {
     "data": {
      "text/plain": [
       "{'Rows': 916,\n",
       " 'Sentences': 911,\n",
       " 'Subject Omission': 291,\n",
       " 'Reflexive Construction': 170,\n",
       " 'Double Negation': 37,\n",
       " 'Diminutives and Augmentatives': 150,\n",
       " 'Clitic Pronouns': 287,\n",
       " 'Other': 245}"
      ]
     },
     "execution_count": 10,
     "metadata": {},
     "output_type": "execute_result"
    }
   ],
   "execution_count": 10
  },
  {
   "metadata": {},
   "cell_type": "markdown",
   "source": "## Save the curated dataset",
   "id": "a2f96d72ad84c5ba"
  },
  {
   "metadata": {
    "ExecuteTime": {
     "end_time": "2024-11-20T13:39:58.826577Z",
     "start_time": "2024-11-20T13:39:58.817209Z"
    }
   },
   "cell_type": "code",
   "source": [
    "curated_df.drop(columns=[\n",
    "    'subject_omission',\n",
    "    'reflexive_construction',\n",
    "    'double_negation',\n",
    "    'diminutives_augmentatives',\n",
    "    'clitic_pronouns'\n",
    "], inplace=True, errors='ignore')\n",
    "curated_df.to_csv('Datasets/Curated-IT-NL', sep='\\t', index=False)"
   ],
   "id": "91b79a7dfdfcd129",
   "outputs": [],
   "execution_count": 14
  }
 ],
 "metadata": {
  "kernelspec": {
   "display_name": "Python 3",
   "language": "python",
   "name": "python3"
  },
  "language_info": {
   "codemirror_mode": {
    "name": "ipython",
    "version": 2
   },
   "file_extension": ".py",
   "mimetype": "text/x-python",
   "name": "python",
   "nbconvert_exporter": "python",
   "pygments_lexer": "ipython2",
   "version": "2.7.6"
  }
 },
 "nbformat": 4,
 "nbformat_minor": 5
}
